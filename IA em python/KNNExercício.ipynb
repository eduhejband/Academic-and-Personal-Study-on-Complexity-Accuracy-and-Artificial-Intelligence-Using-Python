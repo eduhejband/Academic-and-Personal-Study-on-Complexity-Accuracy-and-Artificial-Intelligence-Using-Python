{
  "nbformat": 4,
  "nbformat_minor": 0,
  "metadata": {
    "colab": {
      "name": "KNN_Exercicio_Original.ipynb",
      "provenance": [],
      "toc_visible": true
    },
    "kernelspec": {
      "name": "python3",
      "display_name": "Python 3"
    },
    "language_info": {
      "name": "python"
    }
  },
  "cells": [
    {
      "cell_type": "markdown",
      "metadata": {
        "id": "ilrB-_DtU3JM"
      },
      "source": [
        
      ]
    },
    {
      "cell_type": "markdown",
      "metadata": {
        "id": "6v5UEt8yUPQd"
      },
      "source": [
        "---\n",
        "\n",
        "## Exercícios\n",
        "\n",
        "### (1) Estruture o código para funcionar como uma função, que tem a seguinte assinatura:\n",
        "\n",
        "**knn(X, y, xt)**\n",
        "\n",
        "Onde X representa as amostras de treino, y representa as classes do treino e xt representa uma amostra qualquer a ser rotulada."
      ]
    },
    {
      "cell_type": "code",
      "metadata": {
        "colab": {
          "base_uri": "https://localhost:8080/"
        },
        "id": "e-hXEig0UYZ_",
        "outputId": "cc966613-251a-442a-e9c9-ccfad8fee6c6"
      },
      "source": [
        "# Código para inicializar as variaveis \n",
        "import numpy as np\n",
        "import pandas as pd\n",
        "\n",
        "df_dataset = pd.read_csv('iris.csv', sep=',', index_col=None)\n",
        "from sklearn.utils import shuffle\n",
        "df_dataset = shuffle(df_dataset, random_state=42)\n",
        "treino = df_dataset[:100].values\n",
        "teste = df_dataset[100:].values\n",
        "\n",
        "print(treino.shape)\n",
        "print(teste.shape)\n",
        "amostra_teste = teste[0,:4]\n",
        "amostra_treino = treino[:,:4]"
      ],
      "execution_count": 1,
      "outputs": [
        {
          "output_type": "stream",
          "text": [
            "(100, 5)\n",
            "(50, 5)\n"
          ],
          "name": "stdout"
        }
      ]
    },
    {
      "cell_type": "markdown",
      "metadata": {
        "id": "8uLqok29VaF2"
      },
      "source": [
        "Código do KNN"
      ]
    },
    {
      "cell_type": "code",
      "metadata": {
        "colab": {
          "base_uri": "https://localhost:8080/",
          "height": 52
        },
        "id": "pzR8cs9bVf7t",
        "outputId": "9e90e204-d25c-4a11-e558-463f5b93d464"
      },
      "source": [
        "def knn(X,Y,xt):\n",
        "  \n",
        "  distancias = np.sum((xt - X[:,:4]) ** 2, axis=1) ** 0.5\n",
        "  k = 5\n",
        "  indices = distancias.argsort()[:k]\n",
        "  from collections import Counter\n",
        "  vizinhos = Y[indices]\n",
        "  classe = Counter(vizinhos).most_common(1)[0][0]\n",
        "  return classe\n",
        "\n",
        "\"\"\"for i in teste:\n",
        "  classe = knn(treino[:,:4], treino[:,4], i[:4])\n",
        "  if i[4] == classe:\n",
        "      print(\"Correto\")\n",
        "  else:\n",
        "      print(\"Errado\")\"\"\""
      ],
      "execution_count": 2,
      "outputs": [
        {
          "output_type": "execute_result",
          "data": {
            "application/vnd.google.colaboratory.intrinsic+json": {
              "type": "string"
            },
            "text/plain": [
              "'for i in teste:\\n  classe = knn(treino[:,:4], treino[:,4], i[:4])\\n  if i[4] == classe:\\n      print(\"Correto\")\\n  else:\\n      print(\"Errado\")'"
            ]
          },
          "metadata": {
            "tags": []
          },
          "execution_count": 2
        }
      ]
    },
    {
      "cell_type": "markdown",
      "metadata": {
        "id": "iS3sbYluWpH4"
      },
      "source": [
        "(2) A partir da função anterior implementada, utilize-a para gerar as variações Edit KNN por remoção e inserção. Verifique o resultado final observando: a quantidade de amostras e a acurácia do conjunto de teste."
      ]
    },
    {
      "cell_type": "code",
      "metadata": {
        "colab": {
          "base_uri": "https://localhost:8080/"
        },
        "id": "FHXaMjLAWn8Q",
        "outputId": "d2e9ce30-3599-41c3-8d74-2d37b7997554"
      },
      "source": [
        "from sklearn import metrics\n",
        "from collections import Counter\n",
        "\n",
        "def knn(X, y, xt):\n",
        "\n",
        "  distancias = np.sum((xt - X)  **2, axis=1)  **0.5\n",
        "  indices = indices = distancias.argsort()[:1]\n",
        "  classe_vizinhos = y[indices]\n",
        "  classe = Counter(classe_vizinhos).most_common(1)[0][0]\n",
        "\n",
        "  return classe\n",
        "\n",
        "def editKNN_ins(base_treino):\n",
        "\n",
        "  ##1° Amostra\n",
        "  base_reduzida = np.array([base_treino[0]])\n",
        "\n",
        "  for amostra in base_treino[1:,:]:\n",
        "    classe = knn(X=base_reduzida[:,:4], y=base_reduzida[:,4], xt=amostra[:4])\n",
        "    if classe != amostra[4]:\n",
        "      base_reduzida = np.append(base_reduzida, [amostra], axis=0)\n",
        "\n",
        "  return base_reduzida\n",
        "\n",
        "def editKNN_rem(base_treino):\n",
        "  base_removida = base_treino.copy()\n",
        "  k=0\n",
        "  for amostra in base_treino:\n",
        "    aux=amostra\n",
        "    base_removida = np.delete(base_removida, k, axis=0)\n",
        "    classe = knn(X=base_removida[:,:4], y=base_removida[:,4], xt=amostra[:4])\n",
        "    if classe != amostra[4]:\n",
        "      base_removida = np.append(base_removida, [aux], axis=0)\n",
        "      k=k+1  \n",
        "  return base_removida\n",
        "\n",
        "classe = []\n",
        "for i in teste:\n",
        "   t= knn(treino[:,:4], treino[:,4], i[:4])\n",
        "   classe= np.append(classe, [t], axis = 0)\n",
        "print(\"Acurácia de knn:\", metrics.accuracy_score(teste[:,4],classe))\n",
        "\n",
        "classe = []\n",
        "\n",
        "neuton=editKNN_ins(treino.copy())\n",
        "for i in teste:\n",
        "   t= knn(neuton[:,:4], neuton[:,4], i[:4])\n",
        "   classe= np.append(classe, [t], axis = 0)\n",
        "print(\"Acurácia de knn por inserção:\", metrics.accuracy_score(teste[:,4],classe))\n",
        "\n",
        "classe = []\n",
        "tesao=editKNN_rem(treino.copy())\n",
        "\n",
        "for i in teste:\n",
        "   t= knn(tesao[:,:4], tesao[:,4], i[:4])\n",
        "   classe= np.append(classe, [t], axis = 0)\n",
        "print(\"Acurácia de knn por remoção:\", metrics.accuracy_score(teste[:,4],classe))\n"
      ],
      "execution_count": 4,
      "outputs": [
        {
          "output_type": "stream",
          "text": [
            "Acurácia de knn: 0.96\n",
            "Acurácia de knn por inserção: 0.98\n",
            "Acurácia de knn por remoção: 0.84\n"
          ],
          "name": "stdout"
        }
      ]
    },
    {
      "cell_type": "markdown",
      "metadata": {
        "id": "ye0ob_CDXGXS"
      },
      "source": [
        "### (3) Aplique o algoritmo Edit KNN na base do Titanic e verifique o resultado final e a quantidade de amostras mantidas."
      ]
    },
    {
      "cell_type": "code",
      "metadata": {
        "colab": {
          "base_uri": "https://localhost:8080/"
        },
        "id": "ySLo6pw6XJna",
        "outputId": "264b5217-56b4-4715-e9a0-6e3921183c61"
      },
      "source": [
        "import numpy as np\n",
        "import pandas as pd\n",
        "\n",
        "from sklearn import metrics\n",
        "from collections import Counter\n",
        "from sklearn.model_selection import train_test_split\n",
        "from sklearn.neighbors import KNeighborsClassifier\n",
        "\n",
        "df_dataset = pd.read_csv('titanic.data', sep=',', index_col=None)\n",
        "# a descricao dos dados pode ser obtida em https://www.kaggle.com/c/titanic/data\n",
        "\n",
        "df_removed = df_dataset.drop(['Name','Cabin', 'PassengerId', 'Ticket','Fare'], axis = 1)\n",
        "\n",
        "values = {'Age': 28, 'Embarked': 'Missing'} #trocando o NaN por Missing\n",
        "df_filled = df_removed.fillna(value=values)\n",
        "\n",
        "df_filled.isna().sum()/df_filled.shape[0]\n",
        "\n",
        "df_filled.Sex[df_filled.Sex == 'female'] = 0\n",
        "df_filled.Sex[df_filled.Sex == 'male'] = 1\n",
        "\n",
        "df_dummy = pd.get_dummies(df_filled, columns=['Embarked'])\n",
        "\n",
        "from sklearn.utils import shuffle\n",
        "df_dataset = shuffle(df_dummy, random_state=42)\n",
        "print(df_dataset.shape)\n",
        "treino1 = df_dataset[:623].values\n",
        "teste1 = df_dataset[623:].values\n",
        "\n",
        "classe = []\n",
        "\n",
        "for i in teste1:\n",
        "   p= knn(treino1[:,1:], treino1[:,0], i[1:])\n",
        "   classe= np.append(classe,[p], axis = 0)\n",
        "   \n",
        "\n",
        "print(\"Acurácia de knn:\", metrics.accuracy_score(teste1[:,0] > 0,classe))\n",
        "\n",
        "classe = []\n",
        "\n",
        "neuton=editKNN_ins(teste1.copy())\n",
        "\n",
        "for i in teste1:\n",
        "   t= knn(neuton[:,1:], neuton[:,0], i[1:])\n",
        "   classe= np.append(classe, [t], axis = 0)\n",
        "print(\"Acurácia de knn por inserção:\", metrics.accuracy_score(teste1[:,0] > 0,classe))\n",
        "\n",
        "classe = []\n",
        "tesao=editKNN_rem(teste1.copy())\n",
        "\n",
        "for i in teste1:\n",
        "   t= knn(tesao[:,1:], tesao[:,0], i[1:])\n",
        "   classe= np.append(classe, [t], axis = 0)\n",
        "print(\"Acurácia de knn por remoção:\", metrics.accuracy_score(teste1[:,0] > 0,classe))"
      ],
      "execution_count": 5,
      "outputs": [
        {
          "output_type": "stream",
          "text": [
            "/usr/local/lib/python3.7/dist-packages/ipykernel_launcher.py:19: SettingWithCopyWarning: \n",
            "A value is trying to be set on a copy of a slice from a DataFrame\n",
            "\n",
            "See the caveats in the documentation: https://pandas.pydata.org/pandas-docs/stable/user_guide/indexing.html#returning-a-view-versus-a-copy\n",
            "/usr/local/lib/python3.7/dist-packages/ipykernel_launcher.py:20: SettingWithCopyWarning: \n",
            "A value is trying to be set on a copy of a slice from a DataFrame\n",
            "\n",
            "See the caveats in the documentation: https://pandas.pydata.org/pandas-docs/stable/user_guide/indexing.html#returning-a-view-versus-a-copy\n"
          ],
          "name": "stderr"
        },
        {
          "output_type": "stream",
          "text": [
            "(891, 10)\n",
            "Acurácia de knn: 0.7388059701492538\n",
            "Acurácia de knn por inserção: 0.8246268656716418\n",
            "Acurácia de knn por remoção: 0.7798507462686567\n"
          ],
          "name": "stdout"
        }
      ]
    }
  ]
}

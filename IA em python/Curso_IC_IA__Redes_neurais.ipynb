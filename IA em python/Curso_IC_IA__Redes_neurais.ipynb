{
  "nbformat": 4,
  "nbformat_minor": 0,
  "metadata": {
    "kernelspec": {
      "display_name": "Python 3",
      "language": "python",
      "name": "python3"
    },
    "language_info": {
      "codemirror_mode": {
        "name": "ipython",
        "version": 3
      },
      "file_extension": ".py",
      "mimetype": "text/x-python",
      "name": "python",
      "nbconvert_exporter": "python",
      "pygments_lexer": "ipython3",
      "version": "3.7.3"
    },
    "colab": {
      "name": "(Curso_IC_IA)_08_Redes neurais.ipynb",
      "provenance": [],
      "toc_visible": true
    }
  },
  "cells": [
    {
      "cell_type": "markdown",
      "metadata": {
        "id": "eckEoW0Gn4mz"
      },
      "source": [
        "## Aula 08 - Redes neurais"
      ]
    },
    {
      "cell_type": "code",
      "metadata": {
        "id": "6p5FdwZNn_0R"
      },
      "source": [
        "import pandas as pd\n",
        "\n",
        "cardio = pd.read_csv('heart.csv')\n",
        "# referencia: https://www.kaggle.com/ronitf/heart-disease-uci"
      ],
      "execution_count": 2,
      "outputs": []
    },
    {
      "cell_type": "code",
      "metadata": {
        "colab": {
          "base_uri": "https://localhost:8080/",
          "height": 197
        },
        "id": "RzlomrhYoKyJ",
        "outputId": "46511dae-1cb6-4855-a385-f50de1cb9a6c"
      },
      "source": [
        "cardio.head()"
      ],
      "execution_count": 3,
      "outputs": [
        {
          "output_type": "execute_result",
          "data": {
            "text/html": [
              "<div>\n",
              "<style scoped>\n",
              "    .dataframe tbody tr th:only-of-type {\n",
              "        vertical-align: middle;\n",
              "    }\n",
              "\n",
              "    .dataframe tbody tr th {\n",
              "        vertical-align: top;\n",
              "    }\n",
              "\n",
              "    .dataframe thead th {\n",
              "        text-align: right;\n",
              "    }\n",
              "</style>\n",
              "<table border=\"1\" class=\"dataframe\">\n",
              "  <thead>\n",
              "    <tr style=\"text-align: right;\">\n",
              "      <th></th>\n",
              "      <th>age</th>\n",
              "      <th>sex</th>\n",
              "      <th>cp</th>\n",
              "      <th>trestbps</th>\n",
              "      <th>chol</th>\n",
              "      <th>fbs</th>\n",
              "      <th>restecg</th>\n",
              "      <th>thalach</th>\n",
              "      <th>exang</th>\n",
              "      <th>oldpeak</th>\n",
              "      <th>slope</th>\n",
              "      <th>ca</th>\n",
              "      <th>thal</th>\n",
              "      <th>target</th>\n",
              "    </tr>\n",
              "  </thead>\n",
              "  <tbody>\n",
              "    <tr>\n",
              "      <th>0</th>\n",
              "      <td>63</td>\n",
              "      <td>1</td>\n",
              "      <td>3</td>\n",
              "      <td>145</td>\n",
              "      <td>233</td>\n",
              "      <td>1</td>\n",
              "      <td>0</td>\n",
              "      <td>150</td>\n",
              "      <td>0</td>\n",
              "      <td>2.3</td>\n",
              "      <td>0</td>\n",
              "      <td>0</td>\n",
              "      <td>1</td>\n",
              "      <td>1</td>\n",
              "    </tr>\n",
              "    <tr>\n",
              "      <th>1</th>\n",
              "      <td>37</td>\n",
              "      <td>1</td>\n",
              "      <td>2</td>\n",
              "      <td>130</td>\n",
              "      <td>250</td>\n",
              "      <td>0</td>\n",
              "      <td>1</td>\n",
              "      <td>187</td>\n",
              "      <td>0</td>\n",
              "      <td>3.5</td>\n",
              "      <td>0</td>\n",
              "      <td>0</td>\n",
              "      <td>2</td>\n",
              "      <td>1</td>\n",
              "    </tr>\n",
              "    <tr>\n",
              "      <th>2</th>\n",
              "      <td>41</td>\n",
              "      <td>0</td>\n",
              "      <td>1</td>\n",
              "      <td>130</td>\n",
              "      <td>204</td>\n",
              "      <td>0</td>\n",
              "      <td>0</td>\n",
              "      <td>172</td>\n",
              "      <td>0</td>\n",
              "      <td>1.4</td>\n",
              "      <td>2</td>\n",
              "      <td>0</td>\n",
              "      <td>2</td>\n",
              "      <td>1</td>\n",
              "    </tr>\n",
              "    <tr>\n",
              "      <th>3</th>\n",
              "      <td>56</td>\n",
              "      <td>1</td>\n",
              "      <td>1</td>\n",
              "      <td>120</td>\n",
              "      <td>236</td>\n",
              "      <td>0</td>\n",
              "      <td>1</td>\n",
              "      <td>178</td>\n",
              "      <td>0</td>\n",
              "      <td>0.8</td>\n",
              "      <td>2</td>\n",
              "      <td>0</td>\n",
              "      <td>2</td>\n",
              "      <td>1</td>\n",
              "    </tr>\n",
              "    <tr>\n",
              "      <th>4</th>\n",
              "      <td>57</td>\n",
              "      <td>0</td>\n",
              "      <td>0</td>\n",
              "      <td>120</td>\n",
              "      <td>354</td>\n",
              "      <td>0</td>\n",
              "      <td>1</td>\n",
              "      <td>163</td>\n",
              "      <td>1</td>\n",
              "      <td>0.6</td>\n",
              "      <td>2</td>\n",
              "      <td>0</td>\n",
              "      <td>2</td>\n",
              "      <td>1</td>\n",
              "    </tr>\n",
              "  </tbody>\n",
              "</table>\n",
              "</div>"
            ],
            "text/plain": [
              "   age  sex  cp  trestbps  chol  fbs  ...  exang  oldpeak  slope  ca  thal  target\n",
              "0   63    1   3       145   233    1  ...      0      2.3      0   0     1       1\n",
              "1   37    1   2       130   250    0  ...      0      3.5      0   0     2       1\n",
              "2   41    0   1       130   204    0  ...      0      1.4      2   0     2       1\n",
              "3   56    1   1       120   236    0  ...      0      0.8      2   0     2       1\n",
              "4   57    0   0       120   354    0  ...      1      0.6      2   0     2       1\n",
              "\n",
              "[5 rows x 14 columns]"
            ]
          },
          "metadata": {
            "tags": []
          },
          "execution_count": 3
        }
      ]
    },
    {
      "cell_type": "code",
      "metadata": {
        "colab": {
          "base_uri": "https://localhost:8080/"
        },
        "id": "vAPYLI5Hn4m9",
        "outputId": "76702a2b-5ccf-4801-a363-e4a15e5e160d"
      },
      "source": [
        "from sklearn.model_selection import train_test_split\n",
        "\n",
        "features = cardio.columns.tolist()\n",
        "features.remove('target')\n",
        "\n",
        "X = cardio[features]\n",
        "\n",
        "y = cardio.target\n",
        "\n",
        "X_train, X_test, y_train, y_test = train_test_split(X, y, test_size = 0.3, random_state=1) \n",
        "\n",
        "print(X_train.shape)\n",
        "print(y_train.shape)\n",
        "print(X_test.shape)\n",
        "print(y_test.shape)"
      ],
      "execution_count": 4,
      "outputs": [
        {
          "output_type": "stream",
          "text": [
            "(212, 13)\n",
            "(212,)\n",
            "(91, 13)\n",
            "(91,)\n"
          ],
          "name": "stdout"
        }
      ]
    },
    {
      "cell_type": "markdown",
      "metadata": {
        "id": "ORmzs1vDpGiB"
      },
      "source": [
        "### Regressão Logística no Scikit-Learn"
      ]
    },
    {
      "cell_type": "code",
      "metadata": {
        "colab": {
          "base_uri": "https://localhost:8080/"
        },
        "id": "Umyx4EZ8n4m_",
        "outputId": "60ae727f-4c9a-4bcb-ab9a-ea0611ed3849"
      },
      "source": [
        "from sklearn.linear_model import LogisticRegression\n",
        "\n",
        "model = LogisticRegression()\n",
        "model.fit(X_train, y_train)\n"
      ],
      "execution_count": 5,
      "outputs": [
        {
          "output_type": "stream",
          "text": [
            "/usr/local/lib/python3.7/dist-packages/sklearn/linear_model/_logistic.py:940: ConvergenceWarning: lbfgs failed to converge (status=1):\n",
            "STOP: TOTAL NO. of ITERATIONS REACHED LIMIT.\n",
            "\n",
            "Increase the number of iterations (max_iter) or scale the data as shown in:\n",
            "    https://scikit-learn.org/stable/modules/preprocessing.html\n",
            "Please also refer to the documentation for alternative solver options:\n",
            "    https://scikit-learn.org/stable/modules/linear_model.html#logistic-regression\n",
            "  extra_warning_msg=_LOGISTIC_SOLVER_CONVERGENCE_MSG)\n"
          ],
          "name": "stderr"
        },
        {
          "output_type": "execute_result",
          "data": {
            "text/plain": [
              "LogisticRegression(C=1.0, class_weight=None, dual=False, fit_intercept=True,\n",
              "                   intercept_scaling=1, l1_ratio=None, max_iter=100,\n",
              "                   multi_class='auto', n_jobs=None, penalty='l2',\n",
              "                   random_state=None, solver='lbfgs', tol=0.0001, verbose=0,\n",
              "                   warm_start=False)"
            ]
          },
          "metadata": {
            "tags": []
          },
          "execution_count": 5
        }
      ]
    },
    {
      "cell_type": "code",
      "metadata": {
        "colab": {
          "base_uri": "https://localhost:8080/"
        },
        "id": "xhwAOq7Epbkp",
        "outputId": "04c65049-7a7e-43c5-cc42-979e7905bf15"
      },
      "source": [
        "y_pred = model.predict(X_test)\n",
        "\n",
        "from sklearn.metrics import f1_score\n",
        "\n",
        "f1_score(y_pred, y_test)"
      ],
      "execution_count": 6,
      "outputs": [
        {
          "output_type": "execute_result",
          "data": {
            "text/plain": [
              "0.826923076923077"
            ]
          },
          "metadata": {
            "tags": []
          },
          "execution_count": 6
        }
      ]
    },
    {
      "cell_type": "code",
      "metadata": {
        "colab": {
          "base_uri": "https://localhost:8080/"
        },
        "id": "veLORY_LwqXR",
        "outputId": "14ebd339-9ce4-4e7a-e0ea-b441135004af"
      },
      "source": [
        "for C in [-2,-1,0,1,2]:\n",
        "\n",
        "  C = 10 ** C\n",
        "\n",
        "  model = LogisticRegression(C=C)\n",
        "  model.fit(X_train, y_train)\n",
        "\n",
        "  y_pred = model.predict(X_test)\n",
        "\n",
        "  print(C, '->', f1_score(y_pred, y_test))"
      ],
      "execution_count": 10,
      "outputs": [
        {
          "output_type": "stream",
          "text": [
            "0.01 -> 0.7272727272727272\n",
            "0.1 -> 0.8076923076923077\n",
            "1 -> 0.826923076923077\n",
            "10 -> 0.8155339805825242\n",
            "100 -> 0.8155339805825242\n"
          ],
          "name": "stdout"
        },
        {
          "output_type": "stream",
          "text": [
            "/usr/local/lib/python3.7/dist-packages/sklearn/linear_model/_logistic.py:940: ConvergenceWarning: lbfgs failed to converge (status=1):\n",
            "STOP: TOTAL NO. of ITERATIONS REACHED LIMIT.\n",
            "\n",
            "Increase the number of iterations (max_iter) or scale the data as shown in:\n",
            "    https://scikit-learn.org/stable/modules/preprocessing.html\n",
            "Please also refer to the documentation for alternative solver options:\n",
            "    https://scikit-learn.org/stable/modules/linear_model.html#logistic-regression\n",
            "  extra_warning_msg=_LOGISTIC_SOLVER_CONVERGENCE_MSG)\n",
            "/usr/local/lib/python3.7/dist-packages/sklearn/linear_model/_logistic.py:940: ConvergenceWarning: lbfgs failed to converge (status=1):\n",
            "STOP: TOTAL NO. of ITERATIONS REACHED LIMIT.\n",
            "\n",
            "Increase the number of iterations (max_iter) or scale the data as shown in:\n",
            "    https://scikit-learn.org/stable/modules/preprocessing.html\n",
            "Please also refer to the documentation for alternative solver options:\n",
            "    https://scikit-learn.org/stable/modules/linear_model.html#logistic-regression\n",
            "  extra_warning_msg=_LOGISTIC_SOLVER_CONVERGENCE_MSG)\n",
            "/usr/local/lib/python3.7/dist-packages/sklearn/linear_model/_logistic.py:940: ConvergenceWarning: lbfgs failed to converge (status=1):\n",
            "STOP: TOTAL NO. of ITERATIONS REACHED LIMIT.\n",
            "\n",
            "Increase the number of iterations (max_iter) or scale the data as shown in:\n",
            "    https://scikit-learn.org/stable/modules/preprocessing.html\n",
            "Please also refer to the documentation for alternative solver options:\n",
            "    https://scikit-learn.org/stable/modules/linear_model.html#logistic-regression\n",
            "  extra_warning_msg=_LOGISTIC_SOLVER_CONVERGENCE_MSG)\n",
            "/usr/local/lib/python3.7/dist-packages/sklearn/linear_model/_logistic.py:940: ConvergenceWarning: lbfgs failed to converge (status=1):\n",
            "STOP: TOTAL NO. of ITERATIONS REACHED LIMIT.\n",
            "\n",
            "Increase the number of iterations (max_iter) or scale the data as shown in:\n",
            "    https://scikit-learn.org/stable/modules/preprocessing.html\n",
            "Please also refer to the documentation for alternative solver options:\n",
            "    https://scikit-learn.org/stable/modules/linear_model.html#logistic-regression\n",
            "  extra_warning_msg=_LOGISTIC_SOLVER_CONVERGENCE_MSG)\n"
          ],
          "name": "stderr"
        }
      ]
    },
    {
      "cell_type": "markdown",
      "metadata": {
        "id": "xu5KQoIhn4nC"
      },
      "source": [
        "### Regressão logísticas com Keras"
      ]
    },
    {
      "cell_type": "code",
      "metadata": {
        "id": "_BZfojRBn4nD"
      },
      "source": [
        "import tensorflow as tf\n",
        "from tensorflow import keras\n",
        "from tensorflow.keras import layers\n",
        "from tensorflow.keras.layers.experimental import preprocessing\n",
        "\n",
        "import numpy as np\n",
        "np.random.seed(1)\n",
        "\n",
        "import tensorflow as tf\n",
        "tf.random.set_seed(1)"
      ],
      "execution_count": 32,
      "outputs": []
    },
    {
      "cell_type": "code",
      "metadata": {
        "id": "WwdYmYFZn4nD"
      },
      "source": [
        "normalizer = preprocessing.Normalization()\n",
        "normalizer.adapt(X_train.values)"
      ],
      "execution_count": 33,
      "outputs": []
    },
    {
      "cell_type": "code",
      "metadata": {
        "colab": {
          "base_uri": "https://localhost:8080/"
        },
        "id": "eB5WHMpgn4nE",
        "outputId": "5830c10b-c568-4595-e57a-dd552ec4e1a4"
      },
      "source": [
        "model = keras.Sequential([\n",
        "    normalizer,\n",
        "    layers.Dense(1, activation='sigmoid')\n",
        "])\n",
        "\n",
        "model.summary()"
      ],
      "execution_count": 34,
      "outputs": [
        {
          "output_type": "stream",
          "text": [
            "Model: \"sequential_2\"\n",
            "_________________________________________________________________\n",
            "Layer (type)                 Output Shape              Param #   \n",
            "=================================================================\n",
            "normalization_1 (Normalizati (None, 13)                27        \n",
            "_________________________________________________________________\n",
            "dense_2 (Dense)              (None, 1)                 14        \n",
            "=================================================================\n",
            "Total params: 41\n",
            "Trainable params: 14\n",
            "Non-trainable params: 27\n",
            "_________________________________________________________________\n"
          ],
          "name": "stdout"
        }
      ]
    },
    {
      "cell_type": "code",
      "metadata": {
        "id": "DpkWrNNrn4nF"
      },
      "source": [
        "model.compile(optimizer='adam',\n",
        "              loss='binary_crossentropy',\n",
        "              metrics=['accuracy'])"
      ],
      "execution_count": 35,
      "outputs": []
    },
    {
      "cell_type": "code",
      "metadata": {
        "id": "ehvpsi6hn4nF"
      },
      "source": [
        "history = model.fit(\n",
        "    X_train, y_train,\n",
        "    epochs=200,\n",
        "    validation_split = 0.2,\n",
        "    batch_size=10,\n",
        "    verbose=0\n",
        "    )\n",
        "\n",
        "# verbose=0 não gera saida"
      ],
      "execution_count": 36,
      "outputs": []
    },
    {
      "cell_type": "code",
      "metadata": {
        "id": "juZGnyEen4nF"
      },
      "source": [
        "import matplotlib.pyplot as plt\n",
        "\n",
        "def plot_loss(history):\n",
        "    plt.plot(history.history['loss'], label='loss')\n",
        "    plt.plot(history.history['val_loss'], label='val_loss')\n",
        "    plt.xlabel('Épocas')\n",
        "    plt.ylabel('Erro')\n",
        "    plt.legend()\n",
        "    plt.grid(True)\n",
        "\n",
        "\n",
        "def plot_acc(history):\n",
        "    plt.plot(history.history['accuracy'], label='acc')\n",
        "    plt.plot(history.history['val_accuracy'], label='val_acc')\n",
        "    plt.xlabel('Épocas')\n",
        "    plt.ylabel('Acurácia')\n",
        "    plt.legend()\n",
        "    plt.grid(True)"
      ],
      "execution_count": 16,
      "outputs": []
    },
    {
      "cell_type": "code",
      "metadata": {
        "colab": {
          "base_uri": "https://localhost:8080/",
          "height": 281
        },
        "id": "0hd2By_0sJHB",
        "outputId": "e8d159b6-9996-4242-b809-0217cef39ea9"
      },
      "source": [
        "plot_loss(history)"
      ],
      "execution_count": 37,
      "outputs": [
        {
          "output_type": "display_data",
          "data": {
            "image/png": "[encoded data removed]",
            "text/plain": [
              "<Figure size 432x288 with 1 Axes>"
            ]
          },
          "metadata": {
            "tags": [],
            "needs_background": "light"
          }
        }
      ]
    },
    {
      "cell_type": "code",
      "metadata": {
        "colab": {
          "base_uri": "https://localhost:8080/",
          "height": 283
        },
        "id": "FrZ8gzX-sLA5",
        "outputId": "6d8120f5-e285-4e4b-cacf-673e10198dc5"
      },
      "source": [
        "plot_acc(history)"
      ],
      "execution_count": 38,
      "outputs": [
        {
          "output_type": "display_data",
          "data": {
            "image/png": "[encoded data removed]",
            "text/plain": [
              "<Figure size 432x288 with 1 Axes>"
            ]
          },
          "metadata": {
            "tags": [],
            "needs_background": "light"
          }
        }
      ]
    },
    {
      "cell_type": "code",
      "metadata": {
        "colab": {
          "base_uri": "https://localhost:8080/"
        },
        "id": "6SkXIfmqsMDw",
        "outputId": "9e01741b-8ca0-413a-d3e3-1fdca1fc0a75"
      },
      "source": [
        "y_pred = model.predict(X_test)\n",
        "\n",
        "y_pred"
      ],
      "execution_count": 39,
      "outputs": [
        {
          "output_type": "execute_result",
          "data": {
            "text/plain": [
              "array([[0.00387231],\n",
              "       [0.6825583 ],\n",
              "       [0.10594973],\n",
              "       [0.00793529],\n",
              "       [0.05208147],\n",
              "       [0.00362223],\n",
              "       [0.02506891],\n",
              "       [0.6703171 ],\n",
              "       [0.00437704],\n",
              "       [0.99143124],\n",
              "       [0.24690405],\n",
              "       [0.07597962],\n",
              "       [0.7956536 ],\n",
              "       [0.24697286],\n",
              "       [0.3023572 ],\n",
              "       [0.897458  ],\n",
              "       [0.9872031 ],\n",
              "       [0.00782758],\n",
              "       [0.54763895],\n",
              "       [0.85060775],\n",
              "       [0.98396677],\n",
              "       [0.02710062],\n",
              "       [0.71735024],\n",
              "       [0.9766688 ],\n",
              "       [0.9672316 ],\n",
              "       [0.8279315 ],\n",
              "       [0.00514802],\n",
              "       [0.9740762 ],\n",
              "       [0.92029226],\n",
              "       [0.9801935 ],\n",
              "       [0.9514845 ],\n",
              "       [0.84070337],\n",
              "       [0.7966329 ],\n",
              "       [0.6940859 ],\n",
              "       [0.08269912],\n",
              "       [0.38684103],\n",
              "       [0.14584225],\n",
              "       [0.24346396],\n",
              "       [0.61509573],\n",
              "       [0.12200487],\n",
              "       [0.9322475 ],\n",
              "       [0.08216217],\n",
              "       [0.23636013],\n",
              "       [0.00826669],\n",
              "       [0.73310107],\n",
              "       [0.7832867 ],\n",
              "       [0.33674428],\n",
              "       [0.64333797],\n",
              "       [0.7577623 ],\n",
              "       [0.94373596],\n",
              "       [0.94774216],\n",
              "       [0.79433566],\n",
              "       [0.8964665 ],\n",
              "       [0.56821734],\n",
              "       [0.9848267 ],\n",
              "       [0.96757483],\n",
              "       [0.81598294],\n",
              "       [0.01393288],\n",
              "       [0.6017386 ],\n",
              "       [0.06744808],\n",
              "       [0.63728106],\n",
              "       [0.98665476],\n",
              "       [0.9709356 ],\n",
              "       [0.9361133 ],\n",
              "       [0.62183154],\n",
              "       [0.9503375 ],\n",
              "       [0.49251276],\n",
              "       [0.05636415],\n",
              "       [0.18806848],\n",
              "       [0.03713664],\n",
              "       [0.8851408 ],\n",
              "       [0.9661796 ],\n",
              "       [0.00543928],\n",
              "       [0.6526533 ],\n",
              "       [0.01791006],\n",
              "       [0.8999123 ],\n",
              "       [0.6065457 ],\n",
              "       [0.1423412 ],\n",
              "       [0.06418526],\n",
              "       [0.05642438],\n",
              "       [0.92301536],\n",
              "       [0.8872639 ],\n",
              "       [0.02508295],\n",
              "       [0.69489706],\n",
              "       [0.80047464],\n",
              "       [0.9621468 ],\n",
              "       [0.8447699 ],\n",
              "       [0.83604413],\n",
              "       [0.9368576 ],\n",
              "       [0.01833624],\n",
              "       [0.16292816]], dtype=float32)"
            ]
          },
          "metadata": {
            "tags": []
          },
          "execution_count": 39
        }
      ]
    },
    {
      "cell_type": "code",
      "metadata": {
        "colab": {
          "base_uri": "https://localhost:8080/"
        },
        "id": "Sa54Oo_9sVtQ",
        "outputId": "13a034a4-36ec-48b6-a4b4-858395c502e1"
      },
      "source": [
        "import numpy as np\n",
        "\n",
        "f1_score(np.round(y_pred.reshape(-1)), y_test)"
      ],
      "execution_count": 40,
      "outputs": [
        {
          "output_type": "execute_result",
          "data": {
            "text/plain": [
              "0.8076923076923077"
            ]
          },
          "metadata": {
            "tags": []
          },
          "execution_count": 40
        }
      ]
    },
    {
      "cell_type": "code",
      "metadata": {
        "colab": {
          "base_uri": "https://localhost:8080/"
        },
        "id": "3hPeXeOStDsB",
        "outputId": "fd404f31-f9bf-4899-debe-92eb031fcbdd"
      },
      "source": [
        "model.evaluate(X_test, y_test)"
      ],
      "execution_count": 41,
      "outputs": [
        {
          "output_type": "stream",
          "text": [
            "3/3 [==============================] - 0s 3ms/step - loss: 0.4412 - accuracy: 0.7802\n"
          ],
          "name": "stdout"
        },
        {
          "output_type": "execute_result",
          "data": {
            "text/plain": [
              "[0.4411914646625519, 0.7802197933197021]"
            ]
          },
          "metadata": {
            "tags": []
          },
          "execution_count": 41
        }
      ]
    },
    {
      "cell_type": "markdown",
      "metadata": {
        "id": "HPjSQx031KvQ"
      },
      "source": [
        "### Rede neural classificadora"
      ]
    },
    {
      "cell_type": "code",
      "metadata": {
        "colab": {
          "base_uri": "https://localhost:8080/"
        },
        "id": "WNUSQpZG1MxY",
        "outputId": "8be94b41-5f84-462e-efef-86094c1e25cb"
      },
      "source": [
        "# opcoes: adicionar camadas,\n",
        "#         mudar o tamanho das camadas,\n",
        "#         mudar a ativação das camadas,\n",
        "#         inibir alguns neurônios (dropout)\n",
        "\n",
        "model = keras.Sequential([\n",
        "    normalizer,\n",
        "    layers.Dense(30, activation='tanh'),\n",
        "    layers.Dropout(0.2),\n",
        "    layers.Dense(15, activation='tanh'),\n",
        "    layers.Dropout(0.2),\n",
        "    layers.Dense(1, activation='sigmoid')\n",
        "])\n",
        "\n",
        "model.summary()\n",
        "\n",
        "model.compile(optimizer='adam',\n",
        "              loss='binary_crossentropy',\n",
        "              metrics=['accuracy'])\n",
        "\n",
        "history = model.fit(\n",
        "    X_train, y_train,\n",
        "    epochs=50,\n",
        "    validation_split = 0.2,\n",
        "    batch_size=8,\n",
        "    verbose=0\n",
        "    )"
      ],
      "execution_count": 79,
      "outputs": [
        {
          "output_type": "stream",
          "text": [
            "Model: \"sequential_12\"\n",
            "_________________________________________________________________\n",
            "Layer (type)                 Output Shape              Param #   \n",
            "=================================================================\n",
            "normalization_1 (Normalizati (None, 13)                27        \n",
            "_________________________________________________________________\n",
            "dense_31 (Dense)             (None, 30)                420       \n",
            "_________________________________________________________________\n",
            "dropout_4 (Dropout)          (None, 30)                0         \n",
            "_________________________________________________________________\n",
            "dense_32 (Dense)             (None, 15)                465       \n",
            "_________________________________________________________________\n",
            "dropout_5 (Dropout)          (None, 15)                0         \n",
            "_________________________________________________________________\n",
            "dense_33 (Dense)             (None, 1)                 16        \n",
            "=================================================================\n",
            "Total params: 928\n",
            "Trainable params: 901\n",
            "Non-trainable params: 27\n",
            "_________________________________________________________________\n"
          ],
          "name": "stdout"
        }
      ]
    },
    {
      "cell_type": "code",
      "metadata": {
        "colab": {
          "base_uri": "https://localhost:8080/",
          "height": 281
        },
        "id": "xIvcqzlc1nsR",
        "outputId": "ad128695-988d-4e8a-fbbf-5bf18cce3912"
      },
      "source": [
        "plot_loss(history)"
      ],
      "execution_count": 80,
      "outputs": [
        {
          "output_type": "display_data",
          "data": {
            "image/png": "[encoded data removed]",
            "text/plain": [
              "<Figure size 432x288 with 1 Axes>"
            ]
          },
          "metadata": {
            "tags": [],
            "needs_background": "light"
          }
        }
      ]
    },
    {
      "cell_type": "code",
      "metadata": {
        "colab": {
          "base_uri": "https://localhost:8080/",
          "height": 283
        },
        "id": "A76Hg_eK1oKA",
        "outputId": "c3e4b8d3-4353-4f5f-c6ed-5825ba8ebabc"
      },
      "source": [
        "plot_acc(history)"
      ],
      "execution_count": 81,
      "outputs": [
        {
          "output_type": "display_data",
          "data": {
            "image/png": "[encoded data removed]",
            "text/plain": [
              "<Figure size 432x288 with 1 Axes>"
            ]
          },
          "metadata": {
            "tags": [],
            "needs_background": "light"
          }
        }
      ]
    },
    {
      "cell_type": "code",
      "metadata": {
        "colab": {
          "base_uri": "https://localhost:8080/"
        },
        "id": "Cn8XUfVG1pz4",
        "outputId": "dcd4a30b-d01f-49d1-d807-7e275d006486"
      },
      "source": [
        "y_pred = model.predict(X_test).reshape(-1)\n",
        "\n",
        "from sklearn.metrics import accuracy_score\n",
        "\n",
        "accuracy_score(np.round(y_pred), y_test)"
      ],
      "execution_count": 82,
      "outputs": [
        {
          "output_type": "execute_result",
          "data": {
            "text/plain": [
              "0.7692307692307693"
            ]
          },
          "metadata": {
            "tags": []
          },
          "execution_count": 82
        }
      ]
    },
    {
      "cell_type": "markdown",
      "metadata": {
        "id": "KH0tlBow6hcg"
      },
      "source": [
        "### Redes neurais regressoras"
      ]
    },
    {
      "cell_type": "code",
      "metadata": {
        "colab": {
          "base_uri": "https://localhost:8080/"
        },
        "id": "3gd_k6w66gyp",
        "outputId": "233d3a06-9955-4986-9ad0-b4ec3c58b8ee"
      },
      "source": [
        "from sklearn.model_selection import train_test_split\n",
        "\n",
        "features = cardio.columns.tolist()\n",
        "features.remove('age')\n",
        "\n",
        "X = cardio[features]\n",
        "\n",
        "y = cardio.age\n",
        "\n",
        "X_train, X_test, y_train, y_test = train_test_split(X, y, test_size = 0.3, random_state=1) \n",
        "\n",
        "print(X_train.shape)\n",
        "print(y_train.shape)\n",
        "print(X_test.shape)\n",
        "print(y_test.shape)"
      ],
      "execution_count": 83,
      "outputs": [
        {
          "output_type": "stream",
          "text": [
            "(212, 13)\n",
            "(212,)\n",
            "(91, 13)\n",
            "(91,)\n"
          ],
          "name": "stdout"
        }
      ]
    },
    {
      "cell_type": "code",
      "metadata": {
        "id": "RX1I9hcN6z2A"
      },
      "source": [
        "normalizer = preprocessing.Normalization()\n",
        "normalizer.adapt(X_train.values)"
      ],
      "execution_count": 84,
      "outputs": []
    },
    {
      "cell_type": "code",
      "metadata": {
        "colab": {
          "base_uri": "https://localhost:8080/"
        },
        "id": "yGVDNfCu6wpH",
        "outputId": "4d17d077-4ba5-451a-fbdf-778c3b620e1a"
      },
      "source": [
        "model = keras.Sequential([\n",
        "    normalizer,\n",
        "    layers.Dense(30, activation='relu'),\n",
        "    layers.Dropout(0.2),\n",
        "    layers.Dense(15),\n",
        "    layers.Dense(1)\n",
        "])\n",
        "\n",
        "model.summary()\n",
        "\n",
        "model.compile(optimizer='adam',\n",
        "              loss='mean_absolute_error')\n",
        "\n",
        "history = model.fit(\n",
        "    X_train, y_train,\n",
        "    epochs=100,\n",
        "    validation_split = 0.2,\n",
        "    batch_size=8,\n",
        "    verbose=0\n",
        "    )"
      ],
      "execution_count": 106,
      "outputs": [
        {
          "output_type": "stream",
          "text": [
            "Model: \"sequential_18\"\n",
            "_________________________________________________________________\n",
            "Layer (type)                 Output Shape              Param #   \n",
            "=================================================================\n",
            "normalization_2 (Normalizati (None, 13)                27        \n",
            "_________________________________________________________________\n",
            "dense_49 (Dense)             (None, 30)                420       \n",
            "_________________________________________________________________\n",
            "dropout_6 (Dropout)          (None, 30)                0         \n",
            "_________________________________________________________________\n",
            "dense_50 (Dense)             (None, 15)                465       \n",
            "_________________________________________________________________\n",
            "dense_51 (Dense)             (None, 1)                 16        \n",
            "=================================================================\n",
            "Total params: 928\n",
            "Trainable params: 901\n",
            "Non-trainable params: 27\n",
            "_________________________________________________________________\n"
          ],
          "name": "stdout"
        }
      ]
    },
    {
      "cell_type": "code",
      "metadata": {
        "colab": {
          "base_uri": "https://localhost:8080/",
          "height": 281
        },
        "id": "oxRGVHoc7H84",
        "outputId": "a2363071-63ad-48a8-e529-df03c138dea2"
      },
      "source": [
        "plot_loss(history)"
      ],
      "execution_count": 107,
      "outputs": [
        {
          "output_type": "display_data",
          "data": {
            "image/png": "[encoded data removed]",
            "text/plain": [
              "<Figure size 432x288 with 1 Axes>"
            ]
          },
          "metadata": {
            "tags": [],
            "needs_background": "light"
          }
        }
      ]
    },
    {
      "cell_type": "code",
      "metadata": {
        "colab": {
          "base_uri": "https://localhost:8080/"
        },
        "id": "0VvmueYM7Rwg",
        "outputId": "3fcbbe0c-2187-4248-d571-3142b01c1bc3"
      },
      "source": [
        "y_pred = model.predict(X_test).reshape(-1)\n",
        "print(y_pred)"
      ],
      "execution_count": 108,
      "outputs": [
        {
          "output_type": "stream",
          "text": [
            "WARNING:tensorflow:5 out of the last 13 calls to <function Model.make_predict_function.<locals>.predict_function at 0x7fde21793680> triggered tf.function retracing. Tracing is expensive and the excessive number of tracings could be due to (1) creating @tf.function repeatedly in a loop, (2) passing tensors with different shapes, (3) passing Python objects instead of tensors. For (1), please define your @tf.function outside of the loop. For (2), @tf.function has experimental_relax_shapes=True option that relaxes argument shapes that can avoid unnecessary retracing. For (3), please refer to https://www.tensorflow.org/guide/function#controlling_retracing and https://www.tensorflow.org/api_docs/python/tf/function for  more details.\n",
            "[70.8296   49.872807 56.89637  57.527508 58.7251   62.981045 50.912746\n",
            " 58.64867  56.59138  53.56778  45.359764 57.378727 56.223244 49.37664\n",
            " 56.31809  46.218433 45.19056  67.24238  48.86164  63.946648 53.69593\n",
            " 39.066216 51.265194 47.635242 55.461353 48.524    61.730328 42.826557\n",
            " 55.024864 47.322002 43.345917 44.576572 52.55407  56.283443 57.423107\n",
            " 51.43498  54.92092  42.448692 49.075825 68.11891  53.668896 60.75557\n",
            " 54.50095  63.44743  48.96806  50.563835 55.21074  62.17262  54.238388\n",
            " 63.05723  44.54832  51.82068  62.3809   48.731155 55.620197 39.20783\n",
            " 60.288174 50.317905 56.543858 54.895107 74.82047  50.311687 57.50873\n",
            " 41.348248 49.26763  43.776997 80.568855 54.33526  54.350918 50.75586\n",
            " 62.60035  53.368935 57.461163 57.663296 54.132683 67.70042  56.714764\n",
            " 55.17969  50.10248  46.37732  51.171467 47.893593 61.61396  53.125977\n",
            " 69.3261   56.960854 59.84926  53.53448  47.92268  61.24797  60.332905]\n"
          ],
          "name": "stdout"
        }
      ]
    },
    {
      "cell_type": "code",
      "metadata": {
        "colab": {
          "base_uri": "https://localhost:8080/"
        },
        "id": "vjIUkEyl7t4g",
        "outputId": "383900c4-4244-46a0-da5a-621f4ed173ff"
      },
      "source": [
        "y_test.mean()"
      ],
      "execution_count": 109,
      "outputs": [
        {
          "output_type": "execute_result",
          "data": {
            "text/plain": [
              "55.043956043956044"
            ]
          },
          "metadata": {
            "tags": []
          },
          "execution_count": 109
        }
      ]
    },
    {
      "cell_type": "code",
      "metadata": {
        "colab": {
          "base_uri": "https://localhost:8080/"
        },
        "id": "Zd7-OPWN8mZ6",
        "outputId": "8baa7fe8-154d-4879-d8fa-166d3be8d3ae"
      },
      "source": [
        "y_pred.mean()"
      ],
      "execution_count": 110,
      "outputs": [
        {
          "output_type": "execute_result",
          "data": {
            "text/plain": [
              "54.58974"
            ]
          },
          "metadata": {
            "tags": []
          },
          "execution_count": 110
        }
      ]
    }
  ]
}